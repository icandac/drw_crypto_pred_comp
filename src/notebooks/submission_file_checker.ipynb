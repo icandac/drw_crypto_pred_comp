{
 "cells": [
  {
   "cell_type": "code",
   "execution_count": null,
   "metadata": {},
   "outputs": [],
   "source": [
    "import pandas as pd\n",
    "import numpy as np\n",
    "import lightgbm as lgb\n",
    "from scipy.stats import pearsonr\n",
    "from sklearn.model_selection import TimeSeriesSplit\n",
    "from joblib import dump\n",
    "import matplotlib.pyplot as plt\n",
    "import warnings\n",
    "\n",
    "warnings.filterwarnings('ignore', category=UserWarning)\n"
   ]
  },
  {
   "cell_type": "code",
   "execution_count": null,
   "metadata": {},
   "outputs": [],
   "source": [
    "# Load data\n",
    "df_submission = pd.read_csv('../../outputs/submission_lgbm.csv')\n",
    "df_test = pd.read_parquet('../../data/test.parquet')\n",
    "df_train = pd.read_parquet('../../data/train.parquet')\n"
   ]
  },
  {
   "cell_type": "code",
   "execution_count": null,
   "metadata": {},
   "outputs": [],
   "source": [
    "sub = df_submission.sort_values(\"ID\")          # critical\n",
    "sub.to_csv(\"check_submission_lgbm.csv\", index=False)\n",
    "sub"
   ]
  },
  {
   "cell_type": "code",
   "execution_count": null,
   "metadata": {},
   "outputs": [],
   "source": [
    "print(sub.shape)\n",
    "print(sub[\"prediction\"].describe())\n",
    "print(df_train['label'].describe())\n",
    "assert sub[\"prediction\"].isna().sum() == 0\n",
    "assert len(sub) == len(df_test), \"Row count mismatch\"\n",
    "assert sub[\"ID\"].is_monotonic_increasing, \"ID column has sorting issues\"\n",
    "assert sub[\"ID\"].is_unique, \"Duplicate IDs in submission!\"\n",
    "print(\"unique IDs:\", sub[\"ID\"].nunique())\n",
    "assert set(sub[\"ID\"]) == set(df_test.index), \"ID values don't match test set!\"\n",
    "assert np.isfinite(sub[\"prediction\"]).all(), \"Predictions has infinite numbers\"\n",
    "assert sub[\"prediction\"].isna().sum() == 0, \"Found NaNs in predictions\"\n",
    "print(\"prediction var:\", np.var(sub[\"prediction\"]))\n",
    "print(\"training dataset var:\", np.var(df_train[\"label\"]))"
   ]
  },
  {
   "cell_type": "code",
   "execution_count": null,
   "metadata": {},
   "outputs": [],
   "source": [
    "plt.hist(sub[\"prediction\"], bins=100)\n",
    "plt.title(\"Submission prediction distribution\")\n",
    "plt.show()"
   ]
  },
  {
   "cell_type": "code",
   "execution_count": null,
   "metadata": {},
   "outputs": [],
   "source": [
    "plt.hist(df_train[\"label\"], bins=100)\n",
    "plt.title(\"Training dataset target column distribution\")\n",
    "plt.show()"
   ]
  }
 ],
 "metadata": {
  "kernelspec": {
   "display_name": ".venv",
   "language": "python",
   "name": "python3"
  },
  "language_info": {
   "codemirror_mode": {
    "name": "ipython",
    "version": 3
   },
   "file_extension": ".py",
   "mimetype": "text/x-python",
   "name": "python",
   "nbconvert_exporter": "python",
   "pygments_lexer": "ipython3",
   "version": "3.10.16"
  }
 },
 "nbformat": 4,
 "nbformat_minor": 2
}
